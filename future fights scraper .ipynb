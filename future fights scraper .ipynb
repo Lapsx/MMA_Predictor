{
 "cells": [
  {
   "cell_type": "code",
   "execution_count": 9,
   "metadata": {},
   "outputs": [],
   "source": [
    "import requests\n",
    "from bs4 import BeautifulSoup\n",
    "import pandas as pd\n",
    "import numpy as np"
   ]
  },
  {
   "cell_type": "code",
   "execution_count": 10,
   "metadata": {},
   "outputs": [],
   "source": [
    "url = 'http://ufcstats.com/statistics/events/upcoming'\n",
    "headers = {\"Accept-Language\": \"en-US, en;q=0.5\"}\n",
    "results = requests.get(url, headers=headers)\n",
    "\n",
    "soup = BeautifulSoup(results.text, \"html.parser\")"
   ]
  },
  {
   "cell_type": "code",
   "execution_count": 11,
   "metadata": {},
   "outputs": [],
   "source": [
    "lutas = []\n",
    "links = []\n",
    "\n",
    "ufc_a = soup.find_all('a', class_='b-link b-link_style_black', href=True)\n",
    "\n",
    "for container in ufc_a:\n",
    "    link = container['href']\n",
    "    links.append(link)"
   ]
  },
  {
   "cell_type": "code",
   "execution_count": 12,
   "metadata": {},
   "outputs": [],
   "source": [
    "for i in links:\n",
    "    url = i\n",
    "    headers = {\"Accept-Language\": \"en-US, en;q=0.5\"}\n",
    "    results = requests.get(url, headers=headers)\n",
    "\n",
    "    soup = BeautifulSoup(results.text, \"html.parser\")\n",
    "    ufc_nomes = soup.find_all('a', class_='b-link b-link_style_black')\n",
    "    \n",
    "    for container in ufc_nomes:\n",
    "        luta = container.text.strip()\n",
    "        lutas.append(luta)"
   ]
  },
  {
   "cell_type": "code",
   "execution_count": 13,
   "metadata": {},
   "outputs": [],
   "source": [
    "lutas = [x for x in lutas if \"View\" not in x ]"
   ]
  },
  {
   "cell_type": "code",
   "execution_count": 14,
   "metadata": {},
   "outputs": [],
   "source": [
    "K = 2\n",
    "res = [','.join(lutas[idx : idx + K]) for idx in range(len(lutas) - K+1)]"
   ]
  },
  {
   "cell_type": "code",
   "execution_count": 15,
   "metadata": {},
   "outputs": [],
   "source": [
    "res = [[i] for i in res]\n",
    "res = res[0::2]"
   ]
  },
  {
   "cell_type": "code",
   "execution_count": 16,
   "metadata": {},
   "outputs": [],
   "source": [
    "with open('future_fights','w') as filehandle:\n",
    "    filehandle.writelines(\"%s\\n\" % x for x in res)"
   ]
  },
  {
   "cell_type": "code",
   "execution_count": null,
   "metadata": {},
   "outputs": [],
   "source": []
  }
 ],
 "metadata": {
  "kernelspec": {
   "display_name": "Python 3",
   "language": "python",
   "name": "python3"
  },
  "language_info": {
   "codemirror_mode": {
    "name": "ipython",
    "version": 3
   },
   "file_extension": ".py",
   "mimetype": "text/x-python",
   "name": "python",
   "nbconvert_exporter": "python",
   "pygments_lexer": "ipython3",
   "version": "3.7.4"
  }
 },
 "nbformat": 4,
 "nbformat_minor": 2
}
