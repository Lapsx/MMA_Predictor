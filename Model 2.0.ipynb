{
 "cells": [
  {
   "cell_type": "code",
   "execution_count": 1,
   "metadata": {},
   "outputs": [],
   "source": [
    "import numpy as np\n",
    "import pandas as pd\n",
    "import matplotlib.pyplot as plt\n",
    "import warnings\n",
    "from sklearn.preprocessing import LabelEncoder\n",
    "warnings.filterwarnings(\"ignore\")\n",
    "\n",
    "pd.set_option('display.max_columns',100)\n",
    "\n",
    "info_lutador = pd.read_csv('fighter_details.csv')\n",
    "ufc = pd.read_csv('total_fight_data.csv', sep=';')"
   ]
  },
  {
   "cell_type": "code",
   "execution_count": 2,
   "metadata": {},
   "outputs": [],
   "source": [
    "columns = ['R_SIG_STR.', 'B_SIG_STR.', 'R_TOTAL_STR.', 'B_TOTAL_STR.',\n",
    "       'R_TD', 'B_TD', 'R_HEAD', 'B_HEAD', 'R_BODY','B_BODY', 'R_LEG', 'B_LEG', \n",
    "        'R_DISTANCE', 'B_DISTANCE', 'R_CLINCH','B_CLINCH', 'R_GROUND', 'B_GROUND']\n",
    "\n",
    "attemp = '_att'\n",
    "landed = '_landed'\n",
    "\n",
    "for column in columns:\n",
    "    ufc[column+attemp] = ufc[column].apply(lambda X:int(X.split('of')[1]))\n",
    "    ufc[column+landed] = ufc[column].apply(lambda X:int(X.split('of')[0]))\n",
    "\n",
    "ufc.drop(columns, axis=1, inplace=True)\n",
    "ufc['Winner'].fillna('Draw', inplace=True)"
   ]
  },
  {
   "cell_type": "code",
   "execution_count": 3,
   "metadata": {},
   "outputs": [],
   "source": [
    "pct_columns = ['R_SIG_STR_pct','B_SIG_STR_pct', 'R_TD_pct', 'B_TD_pct']\n",
    "\n",
    "for column in pct_columns:\n",
    "    ufc[column] = ufc[column].apply(lambda X:float(X.replace('%', ''))/100)"
   ]
  },
  {
   "cell_type": "code",
   "execution_count": 4,
   "metadata": {},
   "outputs": [],
   "source": [
    "def Division(X):\n",
    "    for division in weight_classes:\n",
    "        if division in X:\n",
    "            return division\n",
    "    if X == 'Catch Weight Bout' or 'Catchweight Bout':\n",
    "        return 'Catch Weight'\n",
    "    else:\n",
    "        return 'Open Weight'"
   ]
  },
  {
   "cell_type": "code",
   "execution_count": 5,
   "metadata": {},
   "outputs": [],
   "source": [
    "weight_classes = ['Women\\'s Strawweight', 'Women\\'s Bantamweight', \n",
    "                  'Women\\'s Featherweight', 'Women\\'s Flyweight', 'Lightweight', \n",
    "                  'Welterweight', 'Middleweight','Light Heavyweight', \n",
    "                  'Heavyweight', 'Featherweight','Bantamweight', 'Flyweight', 'Open Weight']\n",
    "\n",
    "ufc['Weight_class'] = ufc['Fight_type'].apply(Division)"
   ]
  },
  {
   "cell_type": "code",
   "execution_count": 6,
   "metadata": {},
   "outputs": [],
   "source": [
    "ufc['Winner'].fillna('Draw', inplace=True)"
   ]
  },
  {
   "cell_type": "code",
   "execution_count": 7,
   "metadata": {},
   "outputs": [],
   "source": [
    "def get_renamed_winner(row):\n",
    "    if row['R_fighter'] == row['Winner']:\n",
    "        return 'Red'\n",
    "    if row['B_fighter'] == row['Winner']:\n",
    "        return 'Blue'\n",
    "    elif row['Winner'] == 'Draw':\n",
    "        return 'Draw'\n",
    "    \n",
    "ufc['Winner'] = ufc[['R_fighter', 'B_fighter', 'Winner']].apply(get_renamed_winner, axis=1)"
   ]
  },
  {
   "cell_type": "code",
   "execution_count": 8,
   "metadata": {},
   "outputs": [],
   "source": [
    "def inch_to_cm(X):\n",
    "    if X is np.NaN:\n",
    "        return X\n",
    "    elif len(X.split(\"'\")) == 2:\n",
    "        feet = float(X.split(\"'\")[0])\n",
    "        inches = int(X.split(\"'\")[1].replace(' ','').replace('\"', ''))\n",
    "        return (feet*30.48) + (inches * 2.54)\n",
    "    else:\n",
    "        return float(X.replace('\"',''))*2.54"
   ]
  },
  {
   "cell_type": "code",
   "execution_count": 9,
   "metadata": {},
   "outputs": [],
   "source": [
    "info_lutador['Height'] = info_lutador['Height'].apply(inch_to_cm)\n",
    "info_lutador['Reach'] = info_lutador['Reach'].apply(inch_to_cm)"
   ]
  },
  {
   "cell_type": "code",
   "execution_count": 10,
   "metadata": {},
   "outputs": [],
   "source": [
    "info_lutador['Weight'] = info_lutador['Weight'].apply(lambda X: float(X.replace(' lbs', '')) if X is not np.NaN else X)"
   ]
  },
  {
   "cell_type": "code",
   "execution_count": 11,
   "metadata": {},
   "outputs": [],
   "source": [
    "ufc_final = ufc.merge(info_lutador, left_on='R_fighter', right_on='fighter_name', how='left')"
   ]
  },
  {
   "cell_type": "code",
   "execution_count": 12,
   "metadata": {},
   "outputs": [],
   "source": [
    "ufc_final = ufc_final.drop('fighter_name', axis=1)"
   ]
  },
  {
   "cell_type": "code",
   "execution_count": 13,
   "metadata": {},
   "outputs": [],
   "source": [
    "ufc_final.rename(columns={'Height':'R_Height',\n",
    "                          'Weight':'R_Weight',\n",
    "                          'Reach':'R_Reach',\n",
    "                          'Stance':'R_Stance',\n",
    "                          'DOB':'R_DOB'}, inplace=True)"
   ]
  },
  {
   "cell_type": "code",
   "execution_count": 14,
   "metadata": {},
   "outputs": [],
   "source": [
    "ufc_final = ufc_final.merge(info_lutador, left_on='B_fighter', right_on='fighter_name', how='left')"
   ]
  },
  {
   "cell_type": "code",
   "execution_count": 15,
   "metadata": {},
   "outputs": [],
   "source": [
    "ufc_final = ufc_final.drop('fighter_name', axis=1)"
   ]
  },
  {
   "cell_type": "code",
   "execution_count": 16,
   "metadata": {},
   "outputs": [],
   "source": [
    "ufc_final.rename(columns={'Height':'B_Height',\n",
    "                          'Weight':'B_Weight',\n",
    "                          'Reach':'B_Reach',\n",
    "                          'Stance':'B_Stance',\n",
    "                          'DOB':'B_DOB'}, inplace=True)"
   ]
  },
  {
   "cell_type": "code",
   "execution_count": 17,
   "metadata": {},
   "outputs": [],
   "source": [
    "ufc_final['R_DOB'] = pd.to_datetime(ufc_final['R_DOB'])\n",
    "ufc_final['B_DOB'] = pd.to_datetime(ufc_final['B_DOB'])\n",
    "ufc_final['date'] = pd.to_datetime(ufc_final['date'])"
   ]
  },
  {
   "cell_type": "code",
   "execution_count": 18,
   "metadata": {},
   "outputs": [],
   "source": [
    "ufc_final['R_year'] = ufc_final['R_DOB'].apply(lambda X: X.year)\n",
    "ufc_final['B_year'] = ufc_final['B_DOB']. apply(lambda X: X.year)\n",
    "ufc_final['date_year'] = ufc_final['date'].apply(lambda X: X.year)\n",
    "\n",
    "\n",
    "def get_age(row):\n",
    "    B_age = (row['date_year'] - row['B_year'])\n",
    "    R_age = (row['date_year'] - row['R_year'])\n",
    "    if np.isnan(B_age) != True:\n",
    "        B_age = B_age\n",
    "    if np.isnan(R_age) != True:\n",
    "        R_age = R_age\n",
    "    return pd.Series([B_age, R_age], index = ['B_age', 'R_age'])"
   ]
  },
  {
   "cell_type": "code",
   "execution_count": 19,
   "metadata": {},
   "outputs": [],
   "source": [
    "ufc_final[['B_age', 'R_age']] = ufc_final[['date_year', 'R_year', 'B_year']].apply(get_age, axis=1)"
   ]
  },
  {
   "cell_type": "code",
   "execution_count": 20,
   "metadata": {},
   "outputs": [],
   "source": [
    "ufc_final.drop(['R_DOB', 'B_DOB', 'B_year', 'R_year'],axis=1, inplace=True)"
   ]
  },
  {
   "cell_type": "code",
   "execution_count": 21,
   "metadata": {},
   "outputs": [],
   "source": [
    "ufc_final['R_age'] = ufc_final['R_age'].fillna(ufc_final['R_age'].median())\n",
    "ufc_final['B_age'] = ufc_final['B_age'].fillna(ufc_final['B_age'].median())"
   ]
  },
  {
   "cell_type": "code",
   "execution_count": 22,
   "metadata": {},
   "outputs": [],
   "source": [
    "ufc_final['R_Height'] = ufc_final['R_Height'].fillna(ufc_final['R_Height'].mean())\n",
    "ufc_final['B_Height'] = ufc_final['B_Height'].fillna(ufc_final['B_Height'].mean())"
   ]
  },
  {
   "cell_type": "code",
   "execution_count": 23,
   "metadata": {},
   "outputs": [],
   "source": [
    "Fighter = pd.concat([ufc_final['R_fighter'], ufc_final['B_fighter']], ignore_index = True)"
   ]
  },
  {
   "cell_type": "code",
   "execution_count": 24,
   "metadata": {},
   "outputs": [],
   "source": [
    "from statistics import mode\n",
    "ufc_final['B_Stance'] = ufc_final['B_Stance'].fillna(ufc_final['B_Stance'].mode()[0])\n",
    "ufc_final['R_Stance'] = ufc_final['R_Stance'].fillna(ufc_final['R_Stance'].mode()[0])"
   ]
  },
  {
   "cell_type": "code",
   "execution_count": 25,
   "metadata": {},
   "outputs": [],
   "source": [
    "enc = LabelEncoder()"
   ]
  },
  {
   "cell_type": "code",
   "execution_count": 26,
   "metadata": {},
   "outputs": [],
   "source": [
    "data_enc1 = ufc_final['Weight_class']\n",
    "data_enc1 = enc.fit_transform(data_enc1)\n",
    "\n",
    "data_enc2 = ufc_final['R_Stance']\n",
    "data_enc2 = enc.fit_transform(data_enc2)\n",
    "\n",
    "data_enc3 = ufc_final['B_Stance']\n",
    "data_enc3 = enc.fit_transform(data_enc3)\n",
    "\n",
    "data_enc2 = pd.DataFrame(data_enc2, columns=['R_Stance'])\n",
    "data_enc3 = pd.DataFrame(data_enc3, columns=['B_Stance'])\n",
    "\n",
    "ufc_final[['R_Stance']] = data_enc2[['R_Stance']]\n",
    "ufc_final[['B_Stance']] = data_enc3[['B_Stance']]\n",
    "\n",
    "R_S = pd.get_dummies(ufc_final['R_Stance'])\n",
    "B_S = pd.get_dummies(ufc_final['B_Stance'])\n",
    "\n",
    "ufc_final = pd.concat([ufc_final,pd.get_dummies(ufc_final['win_by'], prefix='win_by')], axis=1)\n",
    "ufc_final.drop(['win_by'], axis=1, inplace=True)\n",
    "\n",
    "ufc_final['Winner_num'] = ufc_final.Winner.map({'Red':0, 'Blue':1, 'Draw':2})"
   ]
  },
  {
   "cell_type": "code",
   "execution_count": 27,
   "metadata": {},
   "outputs": [],
   "source": [
    "B_S.drop([0,2], axis=1, inplace=True)\n",
    "R_S.drop([0,2], axis=1, inplace=True)"
   ]
  },
  {
   "cell_type": "code",
   "execution_count": 28,
   "metadata": {},
   "outputs": [],
   "source": [
    "B_S.columns = ['B_Southpaw','B_Orthodox','B_Switch']\n",
    "R_S.columns = ['R_Southpaw','R_Orthodox','R_Switch']"
   ]
  },
  {
   "cell_type": "code",
   "execution_count": 29,
   "metadata": {},
   "outputs": [],
   "source": [
    "ufc_final['B_Southpaw'] = B_S['B_Southpaw']\n",
    "ufc_final['B_Orthodox']= B_S['B_Orthodox']\n",
    "ufc_final['B_Switch'] = B_S['B_Switch']\n",
    "ufc_final['R_Southpaw'] = R_S['R_Southpaw']\n",
    "ufc_final['R_Orthodox']= R_S['R_Orthodox']\n",
    "ufc_final['R_Switch'] = R_S['R_Switch']\n",
    "\n",
    "ufc_final.drop(['R_Stance','B_Stance'], axis=1, inplace=True)"
   ]
  },
  {
   "cell_type": "code",
   "execution_count": 30,
   "metadata": {},
   "outputs": [],
   "source": [
    "ufc_final = ufc_final[ufc_final['Winner_num']!=2]"
   ]
  },
  {
   "cell_type": "code",
   "execution_count": 31,
   "metadata": {},
   "outputs": [],
   "source": [
    "ufc_final.drop(['date', 'location', 'Referee', 'last_round', 'last_round_time', 'Format', 'Winner','date_year','Fight_type','Weight_class'], axis=1, inplace=True)"
   ]
  },
  {
   "cell_type": "code",
   "execution_count": 32,
   "metadata": {},
   "outputs": [],
   "source": [
    "df = ufc_final.copy()"
   ]
  },
  {
   "cell_type": "code",
   "execution_count": 33,
   "metadata": {},
   "outputs": [],
   "source": [
    "df['R_SUB._ATT'] = df['R_SUB_ATT']\n",
    "df['R_SIG_STR._pct'] = df['R_SIG_STR_pct']\n",
    "df['B_SUB._ATT'] = df['B_SUB_ATT']\n",
    "df['B_SIG_STR._pct'] = df['B_SIG_STR_pct']\n",
    "df.drop(['B_SUB_ATT','B_SIG_STR_pct', 'R_SUB_ATT', 'R_SIG_STR_pct'], axis=1, inplace=True)"
   ]
  },
  {
   "cell_type": "code",
   "execution_count": 34,
   "metadata": {},
   "outputs": [],
   "source": [
    "ufc_final.drop(['R_SIG_STR._att',\n",
    "                'B_SIG_STR._att',\n",
    "                'R_SIG_STR._landed',\n",
    "                'B_SIG_STR._landed',\n",
    "                'win_by_Could Not Continue',\n",
    "                'win_by_DQ',\n",
    "                'win_by_Decision - Majority',\n",
    "                'win_by_Decision - Split',\n",
    "                'win_by_Decision - Unanimous',\n",
    "                'win_by_KO/TKO',\n",
    "                'win_by_Other',\n",
    "                'win_by_Overturned',\n",
    "                'win_by_Submission',\n",
    "                \"win_by_TKO - Doctor's Stoppage\"\n",
    "               ], axis=1, inplace=True)"
   ]
  },
  {
   "cell_type": "code",
   "execution_count": 35,
   "metadata": {},
   "outputs": [],
   "source": [
    "ufc_final['R_TOTAL_STR._pct'] = ufc_final['R_TOTAL_STR._landed']/ufc_final['R_TOTAL_STR._att']\n",
    "ufc_final['R_BODY_pct'] = ufc_final['R_BODY_landed']/ufc_final['R_BODY_att']\n",
    "ufc_final['R_CLINCH_pct'] = ufc_final['R_CLINCH_landed']/ufc_final['R_CLINCH_att']\n",
    "ufc_final['R_DISTANCE_pct'] = ufc_final['R_DISTANCE_landed']/ufc_final['R_DISTANCE_att']\n",
    "ufc_final['R_GROUND_pct'] = ufc_final['R_GROUND_landed']/ufc_final['R_GROUND_att']\n",
    "ufc_final['R_HEAD_pct'] = ufc_final['R_HEAD_landed']/ufc_final['R_HEAD_att']\n",
    "ufc_final['R_LEG_pct'] = ufc_final['R_LEG_landed']/ufc_final['R_LEG_att']\n",
    "ufc_final['R_TD_pct'] = ufc_final['R_TD_landed']/ufc_final['R_TD_att']\n",
    "ufc_final['R_SUB._pct'] = ufc_final['R_SUB_ATT']\n",
    "ufc_final['R_SIG_STR._pct'] = ufc_final['R_SIG_STR_pct']"
   ]
  },
  {
   "cell_type": "code",
   "execution_count": 36,
   "metadata": {},
   "outputs": [],
   "source": [
    "ufc_final['B_TOTAL_STR._pct'] = ufc_final['B_TOTAL_STR._landed']/ufc_final['B_TOTAL_STR._att']\n",
    "ufc_final['B_BODY_pct'] = ufc_final['B_BODY_landed']/ufc_final['B_BODY_att']\n",
    "ufc_final['B_CLINCH_pct'] = ufc_final['B_CLINCH_landed']/ufc_final['B_CLINCH_att']\n",
    "ufc_final['B_DISTANCE_pct'] = ufc_final['B_DISTANCE_landed']/ufc_final['B_DISTANCE_att']\n",
    "ufc_final['B_GROUND_pct'] = ufc_final['B_GROUND_landed']/ufc_final['B_GROUND_att']\n",
    "ufc_final['B_HEAD_pct'] = ufc_final['B_HEAD_landed']/ufc_final['B_HEAD_att']\n",
    "ufc_final['B_LEG_pct'] = ufc_final['B_LEG_landed']/ufc_final['B_LEG_att']\n",
    "ufc_final['B_TD_pct'] = ufc_final['B_TD_landed']/ufc_final['B_TD_att']\n",
    "ufc_final['B_SUB._pct'] = ufc_final['B_SUB_ATT']\n",
    "ufc_final['B_SIG_STR._pct'] = ufc_final['B_SIG_STR_pct']"
   ]
  },
  {
   "cell_type": "code",
   "execution_count": 37,
   "metadata": {},
   "outputs": [],
   "source": [
    "ufc_final.drop(['R_TOTAL_STR._landed',\n",
    "                'R_TOTAL_STR._att',\n",
    "                'B_TOTAL_STR._landed',\n",
    "                'B_TOTAL_STR._att',\n",
    "                'R_BODY_att',\n",
    "                'R_BODY_landed',\n",
    "                'R_CLINCH_att',\n",
    "               'R_CLINCH_landed',\n",
    "               'R_DISTANCE_att',\n",
    "               'R_DISTANCE_landed',\n",
    "               'R_GROUND_att',\n",
    "               'R_GROUND_landed',\n",
    "               'R_HEAD_att',\n",
    "               'R_HEAD_landed',\n",
    "               'R_LEG_att',\n",
    "               'R_LEG_landed',\n",
    "               'R_BODY_att',\n",
    "               'R_BODY_landed',\n",
    "               'R_TD_att',\n",
    "               'R_TD_landed',\n",
    "               'B_BODY_att',\n",
    "                'B_BODY_landed',\n",
    "                'B_CLINCH_att',\n",
    "               'B_CLINCH_landed',\n",
    "               'B_DISTANCE_att',\n",
    "               'B_DISTANCE_landed',\n",
    "               'B_GROUND_att',\n",
    "               'B_GROUND_landed',\n",
    "               'B_HEAD_att',\n",
    "               'B_HEAD_landed',\n",
    "               'B_LEG_att',\n",
    "               'B_LEG_landed',\n",
    "               'B_BODY_att',\n",
    "               'B_BODY_landed',\n",
    "               'B_TD_att',\n",
    "               'B_TD_landed',\n",
    "               'B_SUB_ATT',\n",
    "               'R_SUB_ATT',\n",
    "               'R_SIG_STR_pct',\n",
    "               'B_SIG_STR_pct'], axis=1, inplace=True)"
   ]
  },
  {
   "cell_type": "markdown",
   "metadata": {},
   "source": [
    "## modelo aqui, treinar em ufc final"
   ]
  },
  {
   "cell_type": "code",
   "execution_count": 38,
   "metadata": {},
   "outputs": [],
   "source": [
    "from sklearn.preprocessing import StandardScaler\n",
    "from sklearn.preprocessing import LabelEncoder\n",
    "from sklearn.preprocessing import minmax_scale\n",
    "from sklearn.model_selection import train_test_split\n",
    "from sklearn.metrics import accuracy_score\n",
    "from sklearn.metrics import precision_score\n",
    "from sklearn.metrics import recall_score\n",
    "from sklearn.metrics import roc_auc_score\n",
    "from sklearn.model_selection import KFold\n",
    "from sklearn.model_selection import cross_val_score\n",
    "from sklearn.model_selection import RandomizedSearchCV\n",
    "from sklearn.model_selection import GridSearchCV\n",
    "from sklearn.metrics import roc_auc_score\n",
    "from xgboost import XGBClassifier\n",
    "\n",
    "\n",
    "import warnings\n",
    "warnings.filterwarnings(\"ignore\")"
   ]
  },
  {
   "cell_type": "code",
   "execution_count": 39,
   "metadata": {},
   "outputs": [],
   "source": [
    "X = ufc_final.drop(['Winner_num'], axis=1)\n",
    "X.drop(['R_fighter', 'B_fighter'],axis=1, inplace=True)\n",
    "Y = ufc_final['Winner_num']"
   ]
  },
  {
   "cell_type": "code",
   "execution_count": 40,
   "metadata": {},
   "outputs": [],
   "source": [
    "cols = X.columns"
   ]
  },
  {
   "cell_type": "code",
   "execution_count": 41,
   "metadata": {},
   "outputs": [],
   "source": [
    "X.fillna(0, inplace=True)"
   ]
  },
  {
   "cell_type": "code",
   "execution_count": 42,
   "metadata": {},
   "outputs": [],
   "source": [
    "X_train,X_test,y_train,y_test = train_test_split(X,Y, test_size = 0.3, random_state = 40)"
   ]
  },
  {
   "cell_type": "code",
   "execution_count": 43,
   "metadata": {},
   "outputs": [],
   "source": [
    "from sklearn.model_selection import cross_val_predict\n",
    "from sklearn.metrics import make_scorer"
   ]
  },
  {
   "cell_type": "code",
   "execution_count": 44,
   "metadata": {},
   "outputs": [],
   "source": [
    "randmodel=XGBClassifier()\n",
    "\n",
    "randparams={'subsample':[0.2,0.3,0.4,0.5,0.6,0.7,0.8,0.9],\n",
    "            'reg_alpha':[10e-5, 10e-3, 0.01, 0.1, 1, 10, 100],\n",
    "            'min_child_weight':[2,3,4,5,6,7,8,9,10], \n",
    "            'max_depth':[6,7,8,9,10,15,20,25,30,35,40,45,50,55,100], \n",
    "            'gamma':[0.01,0.1,0.2,0.3,0.4,0.5,0.6,0.7,0.8,0.9,2], \n",
    "            'eta':[0.01,0.03,0.05,0.07,0.1,0.3,0.5,0.7], \n",
    "            'colsample_bytree':[0.4,0.5,0.6,0.7,0.8,0.9]}\n",
    "\n",
    "clf_model = RandomizedSearchCV(randmodel, param_distributions=randparams, n_iter=2000, cv=7, scoring='roc_auc', n_jobs=5, verbose=3)"
   ]
  },
  {
   "cell_type": "code",
   "execution_count": 45,
   "metadata": {},
   "outputs": [],
   "source": [
    "search = clf_model.fit(X_train, y_train)\n",
    "print(search.best_params_, '\\n', '\\n', search.best_score_)"
   ]
  },
  {
   "cell_type": "code",
   "execution_count": 46,
   "metadata": {},
   "outputs": [
    {
     "name": "stdout",
     "output_type": "stream",
     "text": [
      "accuracy= 86.45%, precision= 84.01%, recall= 83.57%\n"
     ]
    }
   ],
   "source": [
    "model = XGBClassifier(subsample='0.9',reg_alpha='0.1',min_child_weight='5',max_depth='7',gamma='0.2',eta='0.3',colsample_bytree='0.8')\n",
    "model.fit(X_train, y_train)\n",
    "pred = model.predict(X_test)\n",
    "accuracy = accuracy_score(y_test, pred)\n",
    "precision = precision_score(y_test, pred, average = 'macro')\n",
    "recall = recall_score(y_test, pred, average = 'macro')\n",
    "print('accuracy= %.2f%%, precision= %.2f%%, recall= %.2f%%' % (accuracy*100.00, precision*100, recall*100))"
   ]
  },
  {
   "cell_type": "code",
   "execution_count": 47,
   "metadata": {},
   "outputs": [
    {
     "data": {
      "text/plain": [
       "0.8356695436833097"
      ]
     },
     "execution_count": 47,
     "metadata": {},
     "output_type": "execute_result"
    }
   ],
   "source": [
    "roc_auc_score(y_test, pred)"
   ]
  },
  {
   "cell_type": "code",
   "execution_count": 48,
   "metadata": {},
   "outputs": [
    {
     "data": {
      "text/plain": [
       "XGBClassifier(base_score=0.5, booster='gbtree', colsample_bylevel=1,\n",
       "              colsample_bynode=1, colsample_bytree='0.8', eta='0.3',\n",
       "              gamma='0.2', learning_rate=0.1, max_delta_step=0, max_depth='7',\n",
       "              min_child_weight='5', missing=None, n_estimators=100, n_jobs=1,\n",
       "              nthread=None, objective='binary:logistic', random_state=0,\n",
       "              reg_alpha='0.1', reg_lambda=1, scale_pos_weight=1, seed=None,\n",
       "              silent=None, subsample='0.9', verbosity=1)"
      ]
     },
     "execution_count": 48,
     "metadata": {},
     "output_type": "execute_result"
    }
   ],
   "source": [
    "model_final = XGBClassifier(subsample='0.9',reg_alpha='0.1',min_child_weight='5',max_depth='7',gamma='0.2',eta='0.3',colsample_bytree='0.8')\n",
    "model_final.fit(X, Y)"
   ]
  },
  {
   "cell_type": "code",
   "execution_count": 49,
   "metadata": {},
   "outputs": [],
   "source": [
    "def get_pct(att, landed):\n",
    "    pct = (landed / att) * 100\n",
    "    return pct"
   ]
  },
  {
   "cell_type": "code",
   "execution_count": 50,
   "metadata": {},
   "outputs": [],
   "source": [
    "def average_pct(r_pct, b_pct):\n",
    "    average_pct = (r_pct.mean() + b_pct.mean())/2\n",
    "    return average_pct"
   ]
  },
  {
   "cell_type": "code",
   "execution_count": 51,
   "metadata": {},
   "outputs": [],
   "source": [
    "fighters = []\n",
    "for i in ufc_final['B_fighter']:\n",
    "    if i not in fighters:\n",
    "        fighters.append(i)\n",
    "for j in ufc_final['R_fighter']:\n",
    "    if j not in fighters:\n",
    "        fighters.append(j)"
   ]
  },
  {
   "cell_type": "code",
   "execution_count": 52,
   "metadata": {},
   "outputs": [],
   "source": [
    "ufc_final.fillna(0, inplace=True)"
   ]
  },
  {
   "cell_type": "code",
   "execution_count": 53,
   "metadata": {
    "scrolled": true
   },
   "outputs": [],
   "source": [
    "def get_fighter_info(name):\n",
    "    \n",
    "    name_r = df[df['R_fighter']== name]\n",
    "    name_b = df[df['B_fighter']== name]\n",
    "    \n",
    "    name_r = name_r[name_r.columns.drop(list(name_r.filter(regex='B_')))]\n",
    "    name_b = name_b[name_b.columns.drop(list(name_b.filter(regex='R_')))]\n",
    "        \n",
    "    name_r = name_r.rename(columns={'R_fighter':'Fighter'})\n",
    "    name_b = name_b.rename(columns={'B_fighter':'Fighter'})\n",
    "    \n",
    "    if len(df[df['R_fighter']==name])==1 and len(df[df['B_fighter']==name])==0:\n",
    "        \n",
    "        SIG_STR_pct = get_pct(name_r['R_SIG_STR._att'], name_r['R_SIG_STR._landed']).iloc[0]\n",
    "        TOTAL_STR_pct = get_pct(name_r['R_TOTAL_STR._att'], name_r['R_TOTAL_STR._landed']).iloc[0]\n",
    "        TD_pct = name_r['R_TD_pct'].iloc[0]\n",
    "        KD_TOTAL = name_r['R_KD'].iloc[0]\n",
    "        BODY_pct = get_pct(name_r['R_BODY_att'], name_r['R_BODY_landed']).iloc[0]\n",
    "        CLINCH_pct = get_pct(name_r['R_CLINCH_att'], name_r['R_CLINCH_landed']).iloc[0]\n",
    "        DISTANCE_pct = get_pct(name_r['R_DISTANCE_att'], name_r['R_DISTANCE_landed']).iloc[0]\n",
    "        GROUND_pct = get_pct(name_r['R_GROUND_att'], name_r['R_GROUND_landed']).iloc[0]\n",
    "        HEAD_pct = get_pct(name_r['R_HEAD_att'], name_r['R_HEAD_landed']).iloc[0]\n",
    "        LEG_pct = get_pct(name_r['R_LEG_att'], name_r['R_LEG_landed']).iloc[0]\n",
    "        TOTAL_PASS = name_r['R_PASS'].sum()\n",
    "        TOTAL_REV = name_r['R_REV'].sum()\n",
    "        TOTAL_SUB = name_r['R_SUB._ATT'].sum()\n",
    "                \n",
    "    elif len(df[df['B_fighter']==name])==1 and len(df[df['R_fighter']==name])==0:\n",
    "        \n",
    "        SIG_STR_pct = get_pct(name_b['B_SIG_STR._att'], name_b['B_SIG_STR._landed']).iloc[0]\n",
    "        TOTAL_STR_pct = get_pct(name_b['B_TOTAL_STR._att'],name_b['B_TOTAL_STR._landed']).iloc[0]\n",
    "        TD_pct = name_b['B_TD_pct'].iloc[0]\n",
    "        KD_TOTAL = name_b['B_KD'].sum()\n",
    "        BODY_pct = get_pct(name_b['B_BODY_att'], name_b['B_BODY_landed']).iloc[0]\n",
    "        CLINCH_pct = get_pct(name_b['B_CLINCH_att'], name_b['B_CLINCH_landed']).iloc[0]\n",
    "        DISTANCE_pct = get_pct(name_b['B_DISTANCE_att'], name_b['B_DISTANCE_landed']).iloc[0]\n",
    "        GROUND_pct = get_pct(name_b['B_GROUND_att'], name_b['B_GROUND_landed']).iloc[0]\n",
    "        HEAD_pct = get_pct(name_b['B_HEAD_att'], name_b['B_HEAD_landed']).iloc[0]\n",
    "        LEG_pct = get_pct(name_b['B_LEG_att'], name_b['B_LEG_landed']).iloc[0]\n",
    "        TOTAL_PASS = name_b['B_PASS'].sum()\n",
    "        TOTAL_REV = name_b['B_REV'].sum()\n",
    "        TOTAL_SUB = name_b['B_SUB._ATT'].sum()   \n",
    "        \n",
    "    else:\n",
    "        R_SIG_STR_pct = get_pct(name_r['R_SIG_STR._att'], name_r['R_SIG_STR._landed'])\n",
    "        B_SIG_STR_pct = get_pct(name_b['B_SIG_STR._att'], name_b['B_SIG_STR._landed'])\n",
    "    \n",
    "        R_TOTAL_STR_pct = get_pct(name_r['R_TOTAL_STR._att'],name_r['R_TOTAL_STR._landed'])\n",
    "        B_TOTAL_STR_pct = get_pct(name_b['B_TOTAL_STR._att'],name_b['B_TOTAL_STR._landed'])\n",
    "    \n",
    "        R_BODY_pct = get_pct(name_r['R_BODY_att'], name_r['R_BODY_landed'])\n",
    "        B_BODY_pct = get_pct(name_b['B_BODY_att'], name_b['B_BODY_landed'])\n",
    "    \n",
    "        R_CLINCH_pct = get_pct(name_r['R_CLINCH_att'], name_r['R_CLINCH_landed'])\n",
    "        B_CLINCH_pct = get_pct(name_b['B_CLINCH_att'], name_b['B_CLINCH_landed'])\n",
    "    \n",
    "        R_DISTANCE_pct = get_pct(name_r['R_DISTANCE_att'], name_r['R_DISTANCE_landed'])\n",
    "        B_DISTANCE_pct = get_pct(name_b['B_DISTANCE_att'], name_b['B_DISTANCE_landed'])\n",
    "\n",
    "        R_GROUND_pct = get_pct(name_r['R_GROUND_att'], name_r['R_GROUND_landed'])\n",
    "        B_GROUND_pct = get_pct(name_b['B_GROUND_att'], name_b['B_GROUND_landed'])\n",
    "\n",
    "        R_HEAD_pct = get_pct(name_r['R_HEAD_att'], name_r['R_HEAD_landed'])\n",
    "        B_HEAD_pct = get_pct(name_b['B_HEAD_att'], name_b['B_HEAD_landed'])\n",
    "    \n",
    "        R_LEG_pct = get_pct(name_r['R_LEG_att'], name_r['R_LEG_landed'])\n",
    "        B_LEG_pct = get_pct(name_b['B_LEG_att'], name_b['B_LEG_landed'])\n",
    "          \n",
    "        R_TD_pct = name_r['R_TD_pct']\n",
    "        B_TD_pct = name_b['B_TD_pct']\n",
    "    \n",
    "        R_KD = name_r['R_KD'].sum()\n",
    "        B_KD = name_b['B_KD'].sum()\n",
    "    \n",
    "        R_rev = name_r['R_REV'].sum()\n",
    "        B_rev = name_b['B_REV'].sum()\n",
    "    \n",
    "        R_pass = name_r['R_PASS'].sum()\n",
    "        B_pass = name_b['B_PASS'].sum()\n",
    "    \n",
    "        R_SUB = name_r['R_SUB._ATT'].sum()\n",
    "        B_SUB = name_b['B_SUB._ATT'].sum()\n",
    "        \n",
    "        SIG_STR_pct = average_pct(R_SIG_STR_pct,B_SIG_STR_pct)\n",
    "        TOTAL_STR_pct = average_pct(R_TOTAL_STR_pct, B_TOTAL_STR_pct)\n",
    "        TD_pct = average_pct(R_TD_pct,B_TD_pct)\n",
    "        KD_TOTAL = R_KD + B_KD\n",
    "        BODY_pct = average_pct(R_BODY_pct, B_BODY_pct)\n",
    "        CLINCH_pct = average_pct(R_CLINCH_pct, B_CLINCH_pct)\n",
    "        DISTANCE_pct = average_pct(R_DISTANCE_pct, B_DISTANCE_pct)\n",
    "        GROUND_pct = average_pct(R_GROUND_pct, B_GROUND_pct)\n",
    "        HEAD_pct = average_pct(R_HEAD_pct, B_HEAD_pct)\n",
    "        LEG_pct = average_pct(R_LEG_pct, B_LEG_pct)\n",
    "        TOTAL_PASS = R_pass + B_pass\n",
    "        TOTAL_REV = R_rev + B_rev\n",
    "        TOTAL_SUB = R_SUB + B_SUB\n",
    "    \n",
    "    Height = 0\n",
    "    Weight = 0\n",
    "    Reach = 0\n",
    "    Orthodox = 0\n",
    "    Southpaw = 0\n",
    "    Switch = 0\n",
    "    \n",
    "    Age_r = name_r['R_age'].max()\n",
    "    Age_b = name_b['B_age'].max()\n",
    "    Age = max(Age_r,Age_b)\n",
    "\n",
    "    \n",
    "    for i in df['R_fighter']:\n",
    "        if i == name:\n",
    "            Height = name_r['R_Height'].iloc[0]\n",
    "            Weight = name_r['R_Weight'].iloc[0]\n",
    "            Reach = name_r['R_Reach'].iloc[0]\n",
    "            Orthodox = name_r['R_Orthodox'].iloc[0]\n",
    "            Southpaw = name_r['R_Southpaw'].iloc[0]\n",
    "            Switch = name_r['R_Switch'].iloc[0]\n",
    "            \n",
    "    for j in df['B_fighter']:\n",
    "        if j == name:\n",
    "            Height = name_b['B_Height'].iloc[0]\n",
    "            Weight = name_b['B_Weight'].iloc[0]\n",
    "            Reach = name_b['B_Reach'].iloc[0]\n",
    "            Orthodox = name_b['B_Orthodox'].iloc[0]\n",
    "            Southpaw = name_b['B_Southpaw'].iloc[0]\n",
    "            Switch = name_b['B_Switch'].iloc[0]\n",
    "    \n",
    "    F_info = {'SIG_STR_pct':SIG_STR_pct,'TOTAL_STR_pct':TOTAL_STR_pct,'TOTAL_SUB':TOTAL_SUB,'TD_pct':TD_pct,'KD_TOTAL':KD_TOTAL,'BODY_pct':BODY_pct,'CLINCH_pct':CLINCH_pct,'DISTANCE_pct':DISTANCE_pct, 'GROUND_pct':GROUND_pct,'HEAD_pct':HEAD_pct,'LEG_pct':LEG_pct,'TOTAL_REV':TOTAL_REV,'TOTAL_PASS':TOTAL_PASS,'Age':Age,'Height':Height,'Weight':Weight,'Reach':Reach, 'Orthodox':Orthodox, 'Southpaw':Southpaw, 'Switch':Switch}\n",
    "    \n",
    "    return F_info"
   ]
  },
  {
   "cell_type": "code",
   "execution_count": 54,
   "metadata": {},
   "outputs": [],
   "source": [
    "lista = []\n",
    "for i in fighters:\n",
    "    lista.append(get_fighter_info(i))\n",
    "    \n",
    "df_fighters = pd.DataFrame(data=lista, index=fighters)"
   ]
  },
  {
   "cell_type": "code",
   "execution_count": 55,
   "metadata": {
    "scrolled": false
   },
   "outputs": [],
   "source": [
    "df_fighters.fillna(0,inplace=True)"
   ]
  },
  {
   "cell_type": "code",
   "execution_count": 56,
   "metadata": {},
   "outputs": [],
   "source": [
    "R_SIG_STR_pct = []\n",
    "R_TOTAL_STR_pct = []\n",
    "R_TD_pct = []\n",
    "R_KD_TOTAL = []\n",
    "R_BODY_pct = []\n",
    "R_CLINCH_pct = []\n",
    "R_DISTANCE_pct = []\n",
    "R_GROUND_pct = []\n",
    "R_HEAD_pct = []\n",
    "R_LEG_pct = []\n",
    "R_TOTAL_REV = []\n",
    "R_TOTAL_PASS = []\n",
    "R_SUB = []\n",
    "R_Height = []\n",
    "R_Weight = []\n",
    "R_Reach = []\n",
    "R_Orthodox = []\n",
    "R_Southpaw = []\n",
    "R_Switch = []\n",
    "\n",
    "for i in range(len(df)):\n",
    "    R_SIG_STR_pct.append(df_fighters['SIG_STR_pct'].loc[df['R_fighter'].iloc[i]])\n",
    "    R_TOTAL_STR_pct.append(df_fighters['TOTAL_STR_pct'].loc[df['R_fighter'].iloc[i]])\n",
    "    R_TD_pct.append(df_fighters['TD_pct'].loc[df['R_fighter'].iloc[i]])\n",
    "    R_KD_TOTAL.append(df_fighters['KD_TOTAL'].loc[df['R_fighter'].iloc[i]])\n",
    "    R_BODY_pct.append(df_fighters['BODY_pct'].loc[df['R_fighter'].iloc[i]])\n",
    "    R_CLINCH_pct.append(df_fighters['CLINCH_pct'].loc[df['R_fighter'].iloc[i]])\n",
    "    R_DISTANCE_pct.append(df_fighters['DISTANCE_pct'].loc[df['R_fighter'].iloc[i]])\n",
    "    R_GROUND_pct.append(df_fighters['GROUND_pct'].loc[df['R_fighter'].iloc[i]])\n",
    "    R_HEAD_pct.append(df_fighters['HEAD_pct'].loc[df['R_fighter'].iloc[i]])\n",
    "    R_LEG_pct.append(df_fighters['LEG_pct'].loc[df['R_fighter'].iloc[i]])\n",
    "    R_TOTAL_REV.append(df_fighters['TOTAL_REV'].loc[df['R_fighter'].iloc[i]])\n",
    "    R_TOTAL_PASS.append(df_fighters['TOTAL_PASS'].loc[df['R_fighter'].iloc[i]])\n",
    "    R_Height.append(df_fighters['Height'].loc[df['R_fighter'].iloc[i]])\n",
    "    R_Weight.append(df_fighters['Weight'].loc[df['R_fighter'].iloc[i]])\n",
    "    R_Reach.append(df_fighters['Reach'].loc[df['R_fighter'].iloc[i]])\n",
    "    R_Orthodox.append(df_fighters['Orthodox'].loc[df['R_fighter'].iloc[i]])\n",
    "    R_Southpaw.append(df_fighters['Southpaw'].loc[df['R_fighter'].iloc[i]])\n",
    "    R_Switch.append(df_fighters['Switch'].loc[df['R_fighter'].iloc[i]])\n",
    "    R_SUB.append(df_fighters['TOTAL_SUB'].loc[df['R_fighter'].iloc[i]])\n",
    "    \n",
    "    \n",
    "df.drop('R_SIG_STR._att', axis = 1, inplace=True)\n",
    "df.drop('R_TOTAL_STR._att', axis = 1, inplace=True)\n",
    "df.drop('R_TD_att', axis = 1, inplace=True)\n",
    "df.drop('R_KD', axis = 1, inplace=True)\n",
    "df.drop('R_PASS', axis=1, inplace=True)\n",
    "df.drop('R_REV', axis=1, inplace=True)\n",
    "df.drop('R_HEAD_att', axis = 1, inplace=True)\n",
    "df.drop('R_BODY_att', axis = 1, inplace=True)\n",
    "df.drop('R_LEG_att', axis = 1, inplace=True)\n",
    "df.drop('R_DISTANCE_att', axis = 1, inplace=True)\n",
    "df.drop('R_CLINCH_att', axis = 1, inplace=True)\n",
    "df.drop('R_GROUND_att', axis = 1, inplace=True)\n",
    "df.drop('R_Height', axis = 1, inplace=True)\n",
    "df.drop('R_Weight', axis = 1, inplace=True)\n",
    "df.drop('R_Reach', axis = 1, inplace=True)\n",
    "df.drop('R_Orthodox', axis = 1, inplace=True)\n",
    "df.drop('R_Southpaw', axis = 1, inplace=True)\n",
    "df.drop('R_Switch', axis = 1, inplace=True)\n",
    "df.drop('R_SUB._ATT', axis=1, inplace=True)\n",
    "\n",
    "\n",
    "\n",
    "\n",
    "df['R_SIG_STR._pct'] = R_SIG_STR_pct\n",
    "df['R_TOTAL_STR_pct'] = R_TOTAL_STR_pct\n",
    "df['R_TD_pct'] = R_TD_pct\n",
    "df['R_KD_TOTAL'] = R_KD_TOTAL\n",
    "df['R_TOTAL_REV'] = R_TOTAL_REV\n",
    "df['R_TOTAL_PASS'] = R_TOTAL_PASS\n",
    "df['R_CLINCH_pct'] = R_CLINCH_pct\n",
    "df['R_GROUND_pct'] = R_GROUND_pct\n",
    "df['R_DISTANCE_pct'] = R_DISTANCE_pct\n",
    "df['R_BODY_pct'] = R_BODY_pct\n",
    "df['R_HEAD_pct'] = R_HEAD_pct\n",
    "df['R_LEG_pct'] = R_LEG_pct\n",
    "df['R_Height'] = R_Height\n",
    "df['R_Weight'] = R_Weight\n",
    "df['R_Reach'] = R_Reach\n",
    "df['R_SUB'] = R_SUB\n",
    "df['R_Orthodox'] = R_Orthodox\n",
    "df['R_Southpaw'] = R_Southpaw\n",
    "df['R_Switch'] = R_Switch"
   ]
  },
  {
   "cell_type": "code",
   "execution_count": 57,
   "metadata": {
    "scrolled": true
   },
   "outputs": [],
   "source": [
    "B_SIG_STR_pct = []\n",
    "B_TOTAL_STR_pct = []\n",
    "B_TD_pct = []\n",
    "B_KD_TOTAL = []\n",
    "B_BODY_pct = []\n",
    "B_CLINCH_pct = []\n",
    "B_DISTANCE_pct = []\n",
    "B_GROUND_pct = []\n",
    "B_HEAD_pct = []\n",
    "B_LEG_pct = []\n",
    "B_TOTAL_REV = []\n",
    "B_TOTAL_PASS = []\n",
    "B_SUB = []\n",
    "B_Height = []\n",
    "B_Weight = []\n",
    "B_Reach = []\n",
    "B_Orthodox = []\n",
    "B_Southpaw = []\n",
    "B_Switch = []\n",
    "\n",
    "for i in range(len(df)):\n",
    "    B_SIG_STR_pct.append(df_fighters['SIG_STR_pct'].loc[df['R_fighter'].iloc[i]])\n",
    "    B_TOTAL_STR_pct.append(df_fighters['TOTAL_STR_pct'].loc[df['R_fighter'].iloc[i]])\n",
    "    B_TD_pct.append(df_fighters['TD_pct'].loc[df['R_fighter'].iloc[i]])\n",
    "    B_KD_TOTAL.append(df_fighters['KD_TOTAL'].loc[df['R_fighter'].iloc[i]])\n",
    "    B_SUB.append(df_fighters['TOTAL_SUB'].loc[df['R_fighter'].iloc[i]])\n",
    "    B_BODY_pct.append(df_fighters['BODY_pct'].loc[df['R_fighter'].iloc[i]])\n",
    "    B_CLINCH_pct.append(df_fighters['CLINCH_pct'].loc[df['R_fighter'].iloc[i]])\n",
    "    B_DISTANCE_pct.append(df_fighters['DISTANCE_pct'].loc[df['R_fighter'].iloc[i]])\n",
    "    B_GROUND_pct.append(df_fighters['GROUND_pct'].loc[df['R_fighter'].iloc[i]])\n",
    "    B_HEAD_pct.append(df_fighters['HEAD_pct'].loc[df['R_fighter'].iloc[i]])\n",
    "    B_LEG_pct.append(df_fighters['LEG_pct'].loc[df['R_fighter'].iloc[i]])\n",
    "    B_TOTAL_REV.append(df_fighters['TOTAL_REV'].loc[df['R_fighter'].iloc[i]])\n",
    "    B_TOTAL_PASS.append(df_fighters['TOTAL_PASS'].loc[df['R_fighter'].iloc[i]])\n",
    "    B_Height.append(df_fighters['Height'].loc[df['R_fighter'].iloc[i]])\n",
    "    B_Weight.append(df_fighters['Weight'].loc[df['R_fighter'].iloc[i]])\n",
    "    B_Reach.append(df_fighters['Reach'].loc[df['R_fighter'].iloc[i]])\n",
    "    B_Orthodox.append(df_fighters['Orthodox'].loc[df['R_fighter'].iloc[i]])\n",
    "    B_Southpaw.append(df_fighters['Southpaw'].loc[df['R_fighter'].iloc[i]])\n",
    "    B_Switch.append(df_fighters['Switch'].loc[df['R_fighter'].iloc[i]])\n",
    "    \n",
    "    \n",
    "df.drop('B_SIG_STR._att', axis = 1, inplace=True)\n",
    "df.drop('B_TOTAL_STR._att', axis = 1, inplace=True)\n",
    "df.drop('B_TD_att', axis = 1, inplace=True)\n",
    "df.drop('B_KD', axis = 1, inplace=True)\n",
    "df.drop('B_PASS', axis=1, inplace=True)\n",
    "df.drop('B_REV', axis=1, inplace=True)\n",
    "df.drop('B_HEAD_att', axis = 1, inplace=True)\n",
    "df.drop('B_BODY_att', axis = 1, inplace=True)\n",
    "df.drop('B_LEG_att', axis = 1, inplace=True)\n",
    "df.drop('B_DISTANCE_att', axis = 1, inplace=True)\n",
    "df.drop('B_CLINCH_att', axis = 1, inplace=True)\n",
    "df.drop('B_GROUND_att', axis = 1, inplace=True)\n",
    "df.drop('B_Height', axis = 1, inplace=True)\n",
    "df.drop('B_Weight', axis = 1, inplace=True)\n",
    "df.drop('B_Reach', axis = 1, inplace=True)\n",
    "df.drop('B_Orthodox', axis = 1, inplace=True)\n",
    "df.drop('B_Southpaw', axis = 1, inplace=True)\n",
    "df.drop('B_Switch', axis = 1, inplace=True)\n",
    "df.drop('B_SUB._ATT', axis=1, inplace=True)\n",
    "\n",
    "\n",
    "\n",
    "\n",
    "df['B_SIG_STR._pct'] = B_SIG_STR_pct\n",
    "df['B_TOTAL_STR_pct'] = B_TOTAL_STR_pct\n",
    "df['B_TD_pct'] = B_TD_pct\n",
    "df['B_SUB'] = B_SUB\n",
    "df['B_KD_TOTAL'] = B_KD_TOTAL\n",
    "df['B_TOTAL_REV'] = B_TOTAL_REV\n",
    "df['B_TOTAL_PASS'] = B_TOTAL_PASS\n",
    "df['B_CLINCH_pct'] = B_CLINCH_pct\n",
    "df['B_GROUND_pct'] = B_GROUND_pct\n",
    "df['B_DISTANCE_pct'] = B_DISTANCE_pct\n",
    "df['B_BODY_pct'] = B_BODY_pct\n",
    "df['B_HEAD_pct'] = B_HEAD_pct\n",
    "df['B_LEG_pct'] = B_LEG_pct\n",
    "df['B_Height'] = B_Height\n",
    "df['B_Weight'] = B_Weight\n",
    "df['B_Reach'] = B_Reach\n",
    "df['B_Orthodox'] = B_Orthodox\n",
    "df['B_Southpaw'] = B_Southpaw\n",
    "df['B_Switch'] = B_Switch"
   ]
  },
  {
   "cell_type": "code",
   "execution_count": 58,
   "metadata": {},
   "outputs": [],
   "source": [
    "def merge_dict(dict1, dict2):\n",
    "    dict2.update(dict1)\n",
    "    return dict2"
   ]
  },
  {
   "cell_type": "code",
   "execution_count": 59,
   "metadata": {},
   "outputs": [],
   "source": [
    "def get_fighter_df(fighter_R, fighter_B):\n",
    "    f0=df_fighters.loc[fighter_R]\n",
    "    f1=df_fighters.loc[fighter_B]\n",
    "    fighter_0=f0.to_dict()\n",
    "    fighter_1=f1.to_dict()\n",
    "\n",
    "    fighter_0['R_age']=fighter_0.pop('Age')\n",
    "    fighter_0['R_SIG_STR._pct'] = fighter_0.pop('SIG_STR_pct')\n",
    "    fighter_0['R_TOTAL_STR._pct'] = fighter_0.pop('TOTAL_STR_pct')\n",
    "    fighter_0['R_TD_pct'] = fighter_0.pop('TD_pct')\n",
    "    fighter_0['R_KD_TOTAL'] = fighter_0.pop('KD_TOTAL')\n",
    "    fighter_0['R_TOTAL_REV'] = fighter_0.pop('TOTAL_REV')\n",
    "    fighter_0['R_TOTAL_PASS'] =fighter_0.pop('TOTAL_PASS')\n",
    "    fighter_0['R_CLINCH_pct'] = fighter_0.pop('CLINCH_pct')\n",
    "    fighter_0['R_GROUND_pct'] = fighter_0.pop('GROUND_pct')\n",
    "    fighter_0['R_DISTANCE_pct'] = fighter_0.pop('DISTANCE_pct')\n",
    "    fighter_0['R_BODY_pct'] = fighter_0.pop('BODY_pct')\n",
    "    fighter_0['R_HEAD_pct'] = fighter_0.pop('HEAD_pct')\n",
    "    fighter_0['R_LEG_pct'] = fighter_0.pop('LEG_pct')\n",
    "    fighter_0['R_Height'] = fighter_0.pop('Height')\n",
    "    fighter_0['R_Weight'] = fighter_0.pop('Weight')\n",
    "    fighter_0['R_Reach'] = fighter_0.pop('Reach')\n",
    "    fighter_0['R_SUB'] = fighter_0.pop('TOTAL_SUB')\n",
    "    fighter_0['R_Orthodox'] = fighter_0.pop('Orthodox')\n",
    "    fighter_0['R_Southpaw'] = fighter_0.pop('Southpaw')\n",
    "    fighter_0['R_Switch'] = fighter_0.pop('Switch')\n",
    "\n",
    "    fighter_1['B_age']=fighter_1.pop('Age')\n",
    "    fighter_1['B_SIG_STR._pct'] = fighter_1.pop('SIG_STR_pct')\n",
    "    fighter_1['B_TOTAL_STR._pct'] = fighter_1.pop('TOTAL_STR_pct')\n",
    "    fighter_1['B_TD_pct'] = fighter_1.pop('TD_pct')\n",
    "    fighter_1['B_KD_TOTAL'] = fighter_1.pop('KD_TOTAL')\n",
    "    fighter_1['B_TOTAL_REV'] = fighter_1.pop('TOTAL_REV')\n",
    "    fighter_1['B_TOTAL_PASS'] =fighter_1.pop('TOTAL_PASS')\n",
    "    fighter_1['B_CLINCH_pct'] = fighter_1.pop('CLINCH_pct')\n",
    "    fighter_1['B_GROUND_pct'] = fighter_1.pop('GROUND_pct')\n",
    "    fighter_1['B_DISTANCE_pct'] = fighter_1.pop('DISTANCE_pct')\n",
    "    fighter_1['B_BODY_pct'] = fighter_1.pop('BODY_pct')\n",
    "    fighter_1['B_HEAD_pct'] = fighter_1.pop('HEAD_pct')\n",
    "    fighter_1['B_LEG_pct'] = fighter_1.pop('LEG_pct')\n",
    "    fighter_1['B_Height'] = fighter_1.pop('Height')\n",
    "    fighter_1['B_Weight'] = fighter_1.pop('Weight')\n",
    "    fighter_1['B_Reach'] = fighter_1.pop('Reach')\n",
    "    fighter_1['B_SUB'] = fighter_1.pop('TOTAL_SUB')\n",
    "    fighter_1['B_Orthodox'] = fighter_1.pop('Orthodox')\n",
    "    fighter_1['B_Southpaw'] = fighter_1.pop('Southpaw')\n",
    "    fighter_1['B_Switch'] = fighter_1.pop('Switch')\n",
    "    \n",
    "    merge_dict(fighter_0,fighter_1)\n",
    "    fighter_test = pd.DataFrame(fighter_1, index=[0])\n",
    "    fighter_test = fighter_test[['R_KD_TOTAL',\n",
    "                            'B_KD_TOTAL',\n",
    "                            'R_TD_pct',\n",
    "                            'B_TD_pct',\n",
    "                            'R_TOTAL_PASS',\n",
    "                            'B_TOTAL_PASS',\n",
    "                            'R_TOTAL_REV',\n",
    "                            'B_TOTAL_REV',\n",
    "                            'R_Height',\n",
    "                            'R_Weight',\n",
    "                            'R_Reach',\n",
    "                            'B_Height',\n",
    "                            'B_Weight',\n",
    "                            'B_Reach',\n",
    "                            'B_age',\n",
    "                            'R_age',\n",
    "                            'B_Southpaw',\n",
    "                            'B_Orthodox',\n",
    "                            'B_Switch',\n",
    "                            'R_Southpaw',\n",
    "                            'R_Orthodox',\n",
    "                            'R_Switch',\n",
    "                            'R_TOTAL_STR._pct',\n",
    "                            'R_BODY_pct',\n",
    "                            'R_CLINCH_pct',\n",
    "                            'R_DISTANCE_pct',\n",
    "                            'R_GROUND_pct',\n",
    "                            'R_HEAD_pct',\n",
    "                            'R_LEG_pct',\n",
    "                            'R_SUB',\n",
    "                            'R_SIG_STR._pct',\n",
    "                            'B_TOTAL_STR._pct',\n",
    "                            'B_BODY_pct',\n",
    "                            'B_CLINCH_pct',\n",
    "                            'B_DISTANCE_pct',\n",
    "                            'B_GROUND_pct',\n",
    "                            'B_HEAD_pct',\n",
    "                            'B_LEG_pct',\n",
    "                            'B_SUB',\n",
    "                            'B_SIG_STR._pct']]\n",
    "    \n",
    "    fighter_test.rename(columns={'B_SUB':'B_SUB._pct',\n",
    "                             'R_KD_TOTAL':'R_KD',\n",
    "                             'B_TOTAL_REV':'B_REV',\n",
    "                             'R_TOTAL_REV':'R_REV',\n",
    "                             'R_SUB':'R_SUB._pct',\n",
    "                            'B_TOTAL_PASS':'B_PASS',\n",
    "                            'B_KD_TOTAL':'B_KD',\n",
    "                            'R_TOTAL_PASS':'R_PASS'},inplace=True)\n",
    "    return fighter_test"
   ]
  },
  {
   "cell_type": "code",
   "execution_count": 75,
   "metadata": {},
   "outputs": [
    {
     "name": "stdout",
     "output_type": "stream",
     "text": [
      "accuracy= 80.82%, precision= 77.35%, recall= 79.83%\n"
     ]
    }
   ],
   "source": [
    "import sklearn.naive_bayes\n",
    "\n",
    "bayes = sklearn.naive_bayes.BernoulliNB ()\n",
    "bayes.fit(X_train, y_train)\n",
    "\n",
    "pred = bayes.predict(X_test)\n",
    "accuracy = accuracy_score(y_test, pred)\n",
    "precision = precision_score(y_test, pred, average = 'macro')\n",
    "recall = recall_score(y_test, pred, average = 'macro')\n",
    "print('accuracy= %.2f%%, precision= %.2f%%, recall= %.2f%%' % (accuracy*100.00, precision*100, recall*100))"
   ]
  },
  {
   "cell_type": "code",
   "execution_count": 76,
   "metadata": {},
   "outputs": [
    {
     "data": {
      "text/plain": [
       "0.7983357004989257"
      ]
     },
     "execution_count": 76,
     "metadata": {},
     "output_type": "execute_result"
    }
   ],
   "source": [
    "roc_auc_score(y_test, pred)"
   ]
  },
  {
   "cell_type": "code",
   "execution_count": 77,
   "metadata": {},
   "outputs": [
    {
     "data": {
      "text/plain": [
       "BernoulliNB(alpha=1.0, binarize=0.0, class_prior=None, fit_prior=True)"
      ]
     },
     "execution_count": 77,
     "metadata": {},
     "output_type": "execute_result"
    }
   ],
   "source": [
    "bayes_final = sklearn.naive_bayes.BernoulliNB()\n",
    "bayes_final.fit(X, Y)"
   ]
  },
  {
   "cell_type": "code",
   "execution_count": 84,
   "metadata": {},
   "outputs": [],
   "source": [
    "f=open('future_fights','r')\n",
    "lutas = f.read().replace(\"\\\"\\\"\", \"\").split('\\n')[:-1]\n",
    "\n",
    "lutas = [x.replace('[','') for x in lutas]\n",
    "lutas = [x.replace(']','') for x in lutas]\n",
    "lutas = [x.replace(\"'\",\"\") for x in lutas]\n",
    "lutas = [x.split(',') for x in lutas]"
   ]
  },
  {
   "cell_type": "code",
   "execution_count": 85,
   "metadata": {
    "scrolled": true
   },
   "outputs": [
    {
     "name": "stdout",
     "output_type": "stream",
     "text": [
      "['Charles Oliveira', 'Michael Chandler'] NaN NaN NaN\n",
      "['Tony Ferguson', 'Beneil Dariush'] [[0.33649588 0.6635041 ]] [[0.49673515 0.50326485]] [1]\n",
      "['Jack Hermansson', 'Edmen Shahbazyan'] [[0.3709584 0.6290416]] [[0.13159492 0.86840508]] [1]\n",
      "['Katlyn Chookagian', 'Viviane Araujo'] [[0.89183974 0.10816025]] [[9.99974345e-01 2.56550683e-05]] [0]\n",
      "['Shane Burgos', 'Edson Barboza'] [[0.17101377 0.8289862 ]] [[0.50726071 0.49273929]] [0]\n",
      "['Jacare Souza', 'Andre Muniz'] [[0.3780102 0.6219898]] [[0.80973043 0.19026957]] [1]\n",
      "['Matt Schnell', 'Rogerio Bontorin'] [[0.81337094 0.18662909]] [[0.7351192 0.2648808]] [1]\n",
      "['Lando Vannata', 'Mike Grundy'] [[0.38021207 0.61978793]] [[0.76594163 0.23405837]] [1]\n",
      "['Andrea Lee', 'Antonina Shevchenko'] [[0.8152219 0.1847781]] [[0.80373957 0.19626043]] [0]\n",
      "['Jordan Wright', 'Jamie Pickett'] NaN NaN NaN\n",
      "['Gina Mazany', 'Priscila Cachoeira'] [[0.98059976 0.01940026]] [[9.99989067e-01 1.09331592e-05]] [0]\n",
      "['Kevin Aguilar', 'Tucker Lutz'] NaN NaN NaN\n",
      "['Christos Giagos', 'Joel Alvarez'] [[0.9234881  0.07651194]] [[0.97081491 0.02918509]] [0]\n",
      "['Rob Font', 'Cody Garbrandt'] [[0.2497552 0.7502448]] [[0.72858101 0.27141899]] [1]\n",
      "['Yan Xiaonan', 'Carla Esparza'] NaN NaN NaN\n",
      "['Justin Tafa', 'Jared Vanderaa'] NaN NaN NaN\n",
      "['Felicia Spencer', 'Danyelle Wolf'] NaN NaN NaN\n",
      "['Josh Culibao', 'Sha Yilan'] NaN NaN NaN\n",
      "['Israel Adesanya', 'Marvin Vettori'] [[0.4631253 0.5368747]] [[0.43997035 0.56002965]] [1]\n",
      "['Deiveson Figueiredo', 'Brandon Moreno'] [[0.1769231 0.8230769]] [[0.52257245 0.47742755]] [0]\n",
      "['Leon Edwards', 'Nate Diaz'] [[0.2704597 0.7295403]] [[0.51581167 0.48418833]] [0]\n",
      "['Demian Maia', 'Belal Muhammad'] [[0.36321324 0.63678676]] [[0.94149963 0.05850037]] [0]\n",
      "['Paul Craig', 'Jamahal Hill'] [[0.9405615  0.05943852]] [[0.99896998 0.00103002]] [0]\n",
      "['Drew Dober', 'Brad Riddell'] [[0.487099 0.512901]] [[0.95280348 0.04719652]] [1]\n",
      "['Chan Sung Jung', 'Dan Ige'] [[0.1401546 0.8598454]] [[0.46461541 0.53538459]] [1]\n",
      "['Alexander Volkov', 'Ciryl Gane'] [[0.89798266 0.10201736]] [[9.99990533e-01 9.46748116e-06]] [0]\n",
      "['Tim Elliott', 'Su Mudaerji'] [[0.98193944 0.01806059]] [[9.99999692e-01 3.08403976e-07]] [0]\n",
      "['Dustin Poirier', 'Conor McGregor'] [[0.3717569 0.6282431]] [[0.6772575 0.3227425]] [1]\n",
      "['Gilbert Burns', 'Stephen Thompson'] [[0.25003058 0.7499694 ]] [[0.6309172 0.3690828]] [1]\n",
      "['Amanda Nunes', 'Julianna Pena'] [[0.23453337 0.76546663]] [[0.8889452 0.1110548]] [0]\n",
      "['Jan Blachowicz', 'Glover Teixeira'] [[0.27938074 0.72061926]] [[0.46461541 0.53538459]] [1]\n"
     ]
    }
   ],
   "source": [
    "pred_test_xgb = []\n",
    "pred_test_bayes = []\n",
    "\n",
    "for i in lutas:\n",
    "    try:\n",
    "        pred_test_xgb.append(model_final.predict_proba(get_fighter_df(i[0],i[1])))\n",
    "        pred_test_bayes.append(bayes_final.predict_proba(get_fighter_df(i[0],i[1])))\n",
    "    except:\n",
    "        pred_test_xgb.append('NaN')\n",
    "        pred_test_bayes.append('NaN')\n",
    "        pass\n",
    "    \n",
    "for i in range(len(lutas)):\n",
    "    print(lutas[i], pred_test_xgb[i], pred_test_bayes[i])"
   ]
  }
 ],
 "metadata": {
  "kernelspec": {
   "display_name": "Python 3",
   "language": "python",
   "name": "python3"
  },
  "language_info": {
   "codemirror_mode": {
    "name": "ipython",
    "version": 3
   },
   "file_extension": ".py",
   "mimetype": "text/x-python",
   "name": "python",
   "nbconvert_exporter": "python",
   "pygments_lexer": "ipython3",
   "version": "3.7.4"
  }
 },
 "nbformat": 4,
 "nbformat_minor": 2
}
